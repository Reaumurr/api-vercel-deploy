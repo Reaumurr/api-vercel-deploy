{
 "cells": [
  {
   "cell_type": "code",
   "execution_count": 1,
   "metadata": {},
   "outputs": [],
   "source": [
    "import requests"
   ]
  },
  {
   "cell_type": "code",
   "execution_count": 2,
   "metadata": {},
   "outputs": [
    {
     "data": {
      "text/plain": [
       "<Response [200]>"
      ]
     },
     "execution_count": 2,
     "metadata": {},
     "output_type": "execute_result"
    }
   ],
   "source": [
    "response = requests.get(\"https://cuaca-gempa-rest-api.vercel.app\")\n",
    "response"
   ]
  },
  {
   "cell_type": "code",
   "execution_count": 3,
   "metadata": {},
   "outputs": [
    {
     "data": {
      "text/plain": [
       "['__attrs__',\n",
       " '__bool__',\n",
       " '__class__',\n",
       " '__delattr__',\n",
       " '__dict__',\n",
       " '__dir__',\n",
       " '__doc__',\n",
       " '__enter__',\n",
       " '__eq__',\n",
       " '__exit__',\n",
       " '__format__',\n",
       " '__ge__',\n",
       " '__getattribute__',\n",
       " '__getstate__',\n",
       " '__gt__',\n",
       " '__hash__',\n",
       " '__init__',\n",
       " '__init_subclass__',\n",
       " '__iter__',\n",
       " '__le__',\n",
       " '__lt__',\n",
       " '__module__',\n",
       " '__ne__',\n",
       " '__new__',\n",
       " '__nonzero__',\n",
       " '__reduce__',\n",
       " '__reduce_ex__',\n",
       " '__repr__',\n",
       " '__setattr__',\n",
       " '__setstate__',\n",
       " '__sizeof__',\n",
       " '__str__',\n",
       " '__subclasshook__',\n",
       " '__weakref__',\n",
       " '_content',\n",
       " '_content_consumed',\n",
       " '_next',\n",
       " 'apparent_encoding',\n",
       " 'close',\n",
       " 'connection',\n",
       " 'content',\n",
       " 'cookies',\n",
       " 'elapsed',\n",
       " 'encoding',\n",
       " 'headers',\n",
       " 'history',\n",
       " 'is_permanent_redirect',\n",
       " 'is_redirect',\n",
       " 'iter_content',\n",
       " 'iter_lines',\n",
       " 'json',\n",
       " 'links',\n",
       " 'next',\n",
       " 'ok',\n",
       " 'raise_for_status',\n",
       " 'raw',\n",
       " 'reason',\n",
       " 'request',\n",
       " 'status_code',\n",
       " 'text',\n",
       " 'url']"
      ]
     },
     "execution_count": 3,
     "metadata": {},
     "output_type": "execute_result"
    }
   ],
   "source": [
    "dir(response)"
   ]
  },
  {
   "cell_type": "code",
   "execution_count": 5,
   "metadata": {},
   "outputs": [
    {
     "data": {
      "text/plain": [
       "{'maintainer': 'Renova Muhamad Reza',\n",
       " 'source': 'https://github.com/renomureza/cuaca-gempa-rest-api',\n",
       " 'endpoint': {'quake': 'https://cuaca-gempa-rest-api.vercel.app/quake',\n",
       "  'weather': {'province': {'example': 'https://cuaca-gempa-rest-api.vercel.app/weather/jawa-barat'},\n",
       "   'city': {'example': 'https://cuaca-gempa-rest-api.vercel.app/weather/jawa-barat/bandung'}}}}"
      ]
     },
     "execution_count": 5,
     "metadata": {},
     "output_type": "execute_result"
    }
   ],
   "source": [
    "response.json()"
   ]
  },
  {
   "cell_type": "code",
   "execution_count": 6,
   "metadata": {},
   "outputs": [],
   "source": [
    "url_2 = 'https://cuaca-gempa-rest-api.vercel.app/quake'\n",
    "response_2 = requests.get(url_2)"
   ]
  },
  {
   "cell_type": "code",
   "execution_count": 7,
   "metadata": {},
   "outputs": [
    {
     "name": "stdout",
     "output_type": "stream",
     "text": [
      "<Response [200]>\n"
     ]
    }
   ],
   "source": [
    "print(response_2.status_code)"
   ]
  },
  {
   "cell_type": "code",
   "execution_count": 8,
   "metadata": {},
   "outputs": [
    {
     "data": {
      "text/plain": [
       "{'success': True,\n",
       " 'message': None,\n",
       " 'data': {'tanggal': '26 Mar 2024',\n",
       "  'jam': '05:06:04 WIB',\n",
       "  'datetime': '2024-03-25T22:06:04+00:00',\n",
       "  'coordinates': '-6.82,108.09',\n",
       "  'lintang': '6.82 LS',\n",
       "  'bujur': '108.09 BT',\n",
       "  'magnitude': '3.1',\n",
       "  'kedalaman': '5 km',\n",
       "  'wilayah': 'Pusat gempa berada di darat 15 Km Barat Laut Kab.Majalengka',\n",
       "  'potensi': 'Gempa ini dirasakan untuk diteruskan pada masyarakat',\n",
       "  'dirasakan': 'II Bandung Barat, II Sumedang',\n",
       "  'shakemap': 'https://data.bmkg.go.id/DataMKG/TEWS/20240326050604.mmi.jpg'}}"
      ]
     },
     "execution_count": 8,
     "metadata": {},
     "output_type": "execute_result"
    }
   ],
   "source": [
    "response_2.json()"
   ]
  },
  {
   "cell_type": "code",
   "execution_count": 10,
   "metadata": {},
   "outputs": [
    {
     "name": "stdout",
     "output_type": "stream",
     "text": [
      "{'success': False, 'error': {'code': 101, 'type': 'missing_access_key', 'info': 'You have not supplied an API Access Key. [Required format: access_key=YOUR_ACCESS_KEY]'}}\n"
     ]
    }
   ],
   "source": [
    "url_3 = 'https://api.exchangerate.host/convert?from=USD&to=IDR'\n",
    "response = requests.get(url)\n",
    "data = response.json()\n",
    "\n",
    "print(data)"
   ]
  },
  {
   "cell_type": "markdown",
   "metadata": {},
   "source": [
    "## Read Data with Pandas"
   ]
  },
  {
   "cell_type": "code",
   "execution_count": 11,
   "metadata": {},
   "outputs": [],
   "source": [
    "import pandas as pd\n",
    "import json"
   ]
  },
  {
   "cell_type": "code",
   "execution_count": 16,
   "metadata": {},
   "outputs": [],
   "source": [
    "url_ikan = 'https://data.jabarprov.go.id/api-backend/bigdata/diskanlut/od_15086_angka_konsumsi_ikan_berdasarkan_tahun'\n",
    "response_ikan = requests.get(url_ikan)"
   ]
  },
  {
   "cell_type": "code",
   "execution_count": 17,
   "metadata": {},
   "outputs": [
    {
     "name": "stdout",
     "output_type": "stream",
     "text": [
      "200\n"
     ]
    }
   ],
   "source": [
    "print(response_ikan.status_code)"
   ]
  },
  {
   "cell_type": "code",
   "execution_count": 18,
   "metadata": {},
   "outputs": [],
   "source": [
    "json = response_ikan.json()"
   ]
  },
  {
   "cell_type": "code",
   "execution_count": 19,
   "metadata": {},
   "outputs": [
    {
     "data": {
      "text/plain": [
       "dict_keys(['message', 'error', 'data', 'metadata', 'meta', 'metadata_filter'])"
      ]
     },
     "execution_count": 19,
     "metadata": {},
     "output_type": "execute_result"
    }
   ],
   "source": [
    "json.keys()"
   ]
  },
  {
   "cell_type": "code",
   "execution_count": 20,
   "metadata": {},
   "outputs": [
    {
     "data": {
      "text/plain": [
       "[{'id': 1,\n",
       "  'kode_provinsi': 32,\n",
       "  'nama_provinsi': 'JAWA BARAT',\n",
       "  'target_konsumsi_ikan': 23.89,\n",
       "  'realisasi_konsumsi_ikan': 24.57,\n",
       "  'satuan': 'KILOGRAM PER KAPITA PER TAHUN',\n",
       "  'tahun': 2014},\n",
       " {'id': 2,\n",
       "  'kode_provinsi': 32,\n",
       "  'nama_provinsi': 'JAWA BARAT',\n",
       "  'target_konsumsi_ikan': 25.41,\n",
       "  'realisasi_konsumsi_ikan': 25.88,\n",
       "  'satuan': 'KILOGRAM PER KAPITA PER TAHUN',\n",
       "  'tahun': 2015},\n",
       " {'id': 3,\n",
       "  'kode_provinsi': 32,\n",
       "  'nama_provinsi': 'JAWA BARAT',\n",
       "  'target_konsumsi_ikan': 27.35,\n",
       "  'realisasi_konsumsi_ikan': 27.7,\n",
       "  'satuan': 'KILOGRAM PER KAPITA PER TAHUN',\n",
       "  'tahun': 2016},\n",
       " {'id': 4,\n",
       "  'kode_provinsi': 32,\n",
       "  'nama_provinsi': 'JAWA BARAT',\n",
       "  'target_konsumsi_ikan': 28.53,\n",
       "  'realisasi_konsumsi_ikan': 28.6,\n",
       "  'satuan': 'KILOGRAM PER KAPITA PER TAHUN',\n",
       "  'tahun': 2017},\n",
       " {'id': 5,\n",
       "  'kode_provinsi': 32,\n",
       "  'nama_provinsi': 'JAWA BARAT',\n",
       "  'target_konsumsi_ikan': 29.46,\n",
       "  'realisasi_konsumsi_ikan': 29.64,\n",
       "  'satuan': 'KILOGRAM PER KAPITA PER TAHUN',\n",
       "  'tahun': 2018},\n",
       " {'id': 6,\n",
       "  'kode_provinsi': 32,\n",
       "  'nama_provinsi': 'JAWA BARAT',\n",
       "  'target_konsumsi_ikan': 30.34,\n",
       "  'realisasi_konsumsi_ikan': 30.53,\n",
       "  'satuan': 'KILOGRAM PER KAPITA PER TAHUN',\n",
       "  'tahun': 2019},\n",
       " {'id': 7,\n",
       "  'kode_provinsi': 32,\n",
       "  'nama_provinsi': 'JAWA BARAT',\n",
       "  'target_konsumsi_ikan': 28.0,\n",
       "  'realisasi_konsumsi_ikan': 37.01,\n",
       "  'satuan': 'KILOGRAM PER KAPITA PER TAHUN',\n",
       "  'tahun': 2020},\n",
       " {'id': 8,\n",
       "  'kode_provinsi': 32,\n",
       "  'nama_provinsi': 'JAWA BARAT',\n",
       "  'target_konsumsi_ikan': 28.31,\n",
       "  'realisasi_konsumsi_ikan': 37.71,\n",
       "  'satuan': 'KILOGRAM PER KAPITA PER TAHUN',\n",
       "  'tahun': 2021}]"
      ]
     },
     "execution_count": 20,
     "metadata": {},
     "output_type": "execute_result"
    }
   ],
   "source": [
    "## See Data\n",
    "\n",
    "json['data']"
   ]
  },
  {
   "cell_type": "code",
   "execution_count": 22,
   "metadata": {},
   "outputs": [],
   "source": [
    "data = pd.json_normalize(json['data'])"
   ]
  },
  {
   "cell_type": "code",
   "execution_count": 23,
   "metadata": {},
   "outputs": [
    {
     "data": {
      "text/html": [
       "<div>\n",
       "<style scoped>\n",
       "    .dataframe tbody tr th:only-of-type {\n",
       "        vertical-align: middle;\n",
       "    }\n",
       "\n",
       "    .dataframe tbody tr th {\n",
       "        vertical-align: top;\n",
       "    }\n",
       "\n",
       "    .dataframe thead th {\n",
       "        text-align: right;\n",
       "    }\n",
       "</style>\n",
       "<table border=\"1\" class=\"dataframe\">\n",
       "  <thead>\n",
       "    <tr style=\"text-align: right;\">\n",
       "      <th></th>\n",
       "      <th>id</th>\n",
       "      <th>kode_provinsi</th>\n",
       "      <th>nama_provinsi</th>\n",
       "      <th>target_konsumsi_ikan</th>\n",
       "      <th>realisasi_konsumsi_ikan</th>\n",
       "      <th>satuan</th>\n",
       "      <th>tahun</th>\n",
       "    </tr>\n",
       "  </thead>\n",
       "  <tbody>\n",
       "    <tr>\n",
       "      <th>0</th>\n",
       "      <td>1</td>\n",
       "      <td>32</td>\n",
       "      <td>JAWA BARAT</td>\n",
       "      <td>23.89</td>\n",
       "      <td>24.57</td>\n",
       "      <td>KILOGRAM PER KAPITA PER TAHUN</td>\n",
       "      <td>2014</td>\n",
       "    </tr>\n",
       "    <tr>\n",
       "      <th>1</th>\n",
       "      <td>2</td>\n",
       "      <td>32</td>\n",
       "      <td>JAWA BARAT</td>\n",
       "      <td>25.41</td>\n",
       "      <td>25.88</td>\n",
       "      <td>KILOGRAM PER KAPITA PER TAHUN</td>\n",
       "      <td>2015</td>\n",
       "    </tr>\n",
       "    <tr>\n",
       "      <th>2</th>\n",
       "      <td>3</td>\n",
       "      <td>32</td>\n",
       "      <td>JAWA BARAT</td>\n",
       "      <td>27.35</td>\n",
       "      <td>27.70</td>\n",
       "      <td>KILOGRAM PER KAPITA PER TAHUN</td>\n",
       "      <td>2016</td>\n",
       "    </tr>\n",
       "    <tr>\n",
       "      <th>3</th>\n",
       "      <td>4</td>\n",
       "      <td>32</td>\n",
       "      <td>JAWA BARAT</td>\n",
       "      <td>28.53</td>\n",
       "      <td>28.60</td>\n",
       "      <td>KILOGRAM PER KAPITA PER TAHUN</td>\n",
       "      <td>2017</td>\n",
       "    </tr>\n",
       "    <tr>\n",
       "      <th>4</th>\n",
       "      <td>5</td>\n",
       "      <td>32</td>\n",
       "      <td>JAWA BARAT</td>\n",
       "      <td>29.46</td>\n",
       "      <td>29.64</td>\n",
       "      <td>KILOGRAM PER KAPITA PER TAHUN</td>\n",
       "      <td>2018</td>\n",
       "    </tr>\n",
       "    <tr>\n",
       "      <th>5</th>\n",
       "      <td>6</td>\n",
       "      <td>32</td>\n",
       "      <td>JAWA BARAT</td>\n",
       "      <td>30.34</td>\n",
       "      <td>30.53</td>\n",
       "      <td>KILOGRAM PER KAPITA PER TAHUN</td>\n",
       "      <td>2019</td>\n",
       "    </tr>\n",
       "    <tr>\n",
       "      <th>6</th>\n",
       "      <td>7</td>\n",
       "      <td>32</td>\n",
       "      <td>JAWA BARAT</td>\n",
       "      <td>28.00</td>\n",
       "      <td>37.01</td>\n",
       "      <td>KILOGRAM PER KAPITA PER TAHUN</td>\n",
       "      <td>2020</td>\n",
       "    </tr>\n",
       "    <tr>\n",
       "      <th>7</th>\n",
       "      <td>8</td>\n",
       "      <td>32</td>\n",
       "      <td>JAWA BARAT</td>\n",
       "      <td>28.31</td>\n",
       "      <td>37.71</td>\n",
       "      <td>KILOGRAM PER KAPITA PER TAHUN</td>\n",
       "      <td>2021</td>\n",
       "    </tr>\n",
       "  </tbody>\n",
       "</table>\n",
       "</div>"
      ],
      "text/plain": [
       "   id  kode_provinsi nama_provinsi  target_konsumsi_ikan  \\\n",
       "0   1             32    JAWA BARAT                 23.89   \n",
       "1   2             32    JAWA BARAT                 25.41   \n",
       "2   3             32    JAWA BARAT                 27.35   \n",
       "3   4             32    JAWA BARAT                 28.53   \n",
       "4   5             32    JAWA BARAT                 29.46   \n",
       "5   6             32    JAWA BARAT                 30.34   \n",
       "6   7             32    JAWA BARAT                 28.00   \n",
       "7   8             32    JAWA BARAT                 28.31   \n",
       "\n",
       "   realisasi_konsumsi_ikan                         satuan  tahun  \n",
       "0                    24.57  KILOGRAM PER KAPITA PER TAHUN   2014  \n",
       "1                    25.88  KILOGRAM PER KAPITA PER TAHUN   2015  \n",
       "2                    27.70  KILOGRAM PER KAPITA PER TAHUN   2016  \n",
       "3                    28.60  KILOGRAM PER KAPITA PER TAHUN   2017  \n",
       "4                    29.64  KILOGRAM PER KAPITA PER TAHUN   2018  \n",
       "5                    30.53  KILOGRAM PER KAPITA PER TAHUN   2019  \n",
       "6                    37.01  KILOGRAM PER KAPITA PER TAHUN   2020  \n",
       "7                    37.71  KILOGRAM PER KAPITA PER TAHUN   2021  "
      ]
     },
     "execution_count": 23,
     "metadata": {},
     "output_type": "execute_result"
    }
   ],
   "source": [
    "data"
   ]
  }
 ],
 "metadata": {
  "kernelspec": {
   "display_name": "base",
   "language": "python",
   "name": "python3"
  },
  "language_info": {
   "codemirror_mode": {
    "name": "ipython",
    "version": 3
   },
   "file_extension": ".py",
   "mimetype": "text/x-python",
   "name": "python",
   "nbconvert_exporter": "python",
   "pygments_lexer": "ipython3",
   "version": "3.9.18"
  }
 },
 "nbformat": 4,
 "nbformat_minor": 2
}
